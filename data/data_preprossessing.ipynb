{
  "nbformat": 4,
  "nbformat_minor": 0,
  "metadata": {
    "kernelspec": {
      "display_name": "Python 3",
      "language": "python",
      "name": "python3"
    },
    "language_info": {
      "codemirror_mode": {
        "name": "ipython",
        "version": 3
      },
      "file_extension": ".py",
      "mimetype": "text/x-python",
      "name": "python",
      "nbconvert_exporter": "python",
      "pygments_lexer": "ipython3",
      "version": "3.6.8"
    },
    "colab": {
      "name": "data_preprossessing.ipynb",
      "provenance": [],
      "collapsed_sections": []
    }
  },
  "cells": [
    {
      "cell_type": "code",
      "metadata": {
        "id": "N4Ea5MG80P_q",
        "colab_type": "code",
        "colab": {
          "base_uri": "https://localhost:8080/",
          "height": 51
        },
        "outputId": "305f20f2-ee6e-494f-e660-ac6e4ae62c49"
      },
      "source": [
        "!pip install jsonlines"
      ],
      "execution_count": 20,
      "outputs": [
        {
          "output_type": "stream",
          "text": [
            "Requirement already satisfied: jsonlines in /usr/local/lib/python3.6/dist-packages (1.2.0)\n",
            "Requirement already satisfied: six in /usr/local/lib/python3.6/dist-packages (from jsonlines) (1.12.0)\n"
          ],
          "name": "stdout"
        }
      ]
    },
    {
      "cell_type": "code",
      "metadata": {
        "id": "9XwYDP6PU3Z6",
        "colab_type": "code",
        "colab": {}
      },
      "source": [
        "import json\n",
        "import jsonlines\n",
        "import numpy as np\n",
        "import random\n",
        "from copy import deepcopy\n",
        "\n",
        "# Create basic dataset\n",
        "with open('task1_headline_ABSA_train.json', 'r') as f:\n",
        "    array1 = json.load(f)\n",
        "with open('task1_post_ABSA_train.json', 'r') as f:\n",
        "    array2 = json.load(f)\n",
        "array = dict(array1, **array2)\n",
        "data_array = {}\n",
        "\n",
        "temp_array_base = deepcopy(array)\n",
        "with jsonlines.open('task_train.jsonl', mode='w') as writer:\n",
        "    idx_list = random.sample(array.keys(), 944)\n",
        "    for idx in idx_list:\n",
        "        final = {}\n",
        "        a = array[idx]\n",
        "        final['question'] = a['sentence']\n",
        "        info = a['info'][0]\n",
        "        final['passage'] = info['aspects'].strip('[').strip(']').strip('\\'')\n",
        "        final['idx'] = idx\n",
        "        if float(info['sentiment_score']) > 0:\n",
        "            final['label'] = \"1\"\n",
        "        else:\n",
        "            final['label'] = \"0\"\n",
        "        data_array[idx] = final\n",
        "        writer.write(final)\n",
        "\n",
        "        del temp_array_base[idx]\n",
        "\n",
        "with jsonlines.open('task_val.jsonl', mode='w') as writer:\n",
        "    \n",
        "    idx_list = temp_array_base.keys()\n",
        "    for idx in idx_list:\n",
        "        final = {}\n",
        "        a = array[idx]\n",
        "        final['question'] = a['sentence']\n",
        "        info = a['info'][0]\n",
        "        final['passage'] = info['aspects'].strip('[').strip(']').strip('\\'')\n",
        "        final['idx'] = idx\n",
        "        if float(info['sentiment_score']) > 0:\n",
        "            final['label'] = \"1\"\n",
        "        else:\n",
        "            final['label'] = \"0\"\n",
        "        data_array[idx] = final\n",
        "        writer.write(final)\n",
        "\n",
        "# Only level one\n",
        "temp_array_only_one = deepcopy(data_array)\n",
        "with jsonlines.open('task_train_level_one.jsonl', mode='w') as writer:\n",
        "    idx_list = random.sample(data_array.keys(), 944)\n",
        "    for idx in idx_list:\n",
        "        level_one_aspect = temp_array_only_one[idx]['passage'].split('/')[0]\n",
        "        temp_array_only_one[idx]['passage'] = level_one_aspect\n",
        "        writer.write(temp_array_only_one[idx])\n",
        "        del temp_array_only_one[idx]\n",
        "\n",
        "with jsonlines.open('task_val_level_one.jsonl', mode='w') as writer:\n",
        "    idx_list = temp_array_only_one.keys()\n",
        "    for idx in idx_list:\n",
        "        level_one_aspect = temp_array_only_one[idx]['passage'].split('/')[0]\n",
        "        temp_array_only_one[idx]['passage'] = level_one_aspect\n",
        "        writer.write(temp_array_only_one[idx])\n",
        "\n",
        "# Only level two\n",
        "temp_array_only_two = deepcopy(data_array)\n",
        "with jsonlines.open('task_train_level_two.jsonl', mode='w') as writer:\n",
        "    idx_list = random.sample(data_array.keys(), 944)\n",
        "    for idx in idx_list:\n",
        "        sentence_aspect = temp_array_only_two[idx]['passage'].split('/')\n",
        "        if len(sentence_aspect) > 1:\n",
        "            level_two_aspect = sentence_aspect[1]\n",
        "        else:\n",
        "            level_two_aspect = sentence_aspect[0]\n",
        "        temp_array_only_two[idx]['passage'] = level_two_aspect\n",
        "        writer.write(temp_array_only_two[idx])\n",
        "        del temp_array_only_two[idx]\n",
        "\n",
        "with jsonlines.open('task_val_level_two.jsonl', mode='w') as writer:\n",
        "    idx_list = temp_array_only_two.keys()\n",
        "    for idx in idx_list:\n",
        "        sentence_aspect = temp_array_only_two[idx]['passage'].split('/')\n",
        "        if len(sentence_aspect) > 1:\n",
        "            level_two_aspect = sentence_aspect[1]\n",
        "        else:\n",
        "            level_two_aspect = sentence_aspect[0]\n",
        "        temp_array_only_two[idx]['passage'] = level_two_aspect\n",
        "        writer.write(temp_array_only_two[idx])\n",
        "\n",
        "# Create random aspect dataset\n",
        "aspect_list = []\n",
        "level_num = 0\n",
        "with open('task_train.jsonl', 'r') as f:\n",
        "    for item in jsonlines.Reader(f):\n",
        "        aspect_list.append(item['passage'].split('/'))\n",
        "        temp = len(aspect_list[-1])\n",
        "        if temp > level_num:\n",
        "            level_num = temp\n",
        "with open('task_val.jsonl', 'r') as f:\n",
        "    for item in jsonlines.Reader(f):\n",
        "        aspect_list.append(item['passage'].split('/'))\n",
        "        temp = len(aspect_list[-1])\n",
        "        if temp > level_num:\n",
        "            level_num = temp\n",
        "aspect_set = []\n",
        "for i in range(level_num):\n",
        "    aspect_set.append(set())\n",
        "for item in aspect_list:\n",
        "    for i in range(len(item)):\n",
        "        aspect_set[i].add(item[i])\n",
        "for i in range(level_num):\n",
        "    aspect_set[i] = list(aspect_set[i])\n",
        "\n",
        "# All levels random\n",
        "temp_array_random_all = deepcopy(data_array)\n",
        "with jsonlines.open('task_train_random_all.jsonl', mode='w') as writer:\n",
        "    idx_list = random.sample(data_array.keys(), 944)\n",
        "    for idx in idx_list:\n",
        "        rand_aspect_list = []\n",
        "        rand_level = np.random.randint(1, level_num)\n",
        "        for i in range(rand_level):\n",
        "            rand_ind = np.random.randint(0, len(aspect_set[i]))\n",
        "            rand_aspect_list.append(aspect_set[i][rand_ind])\n",
        "        rand_aspect = \"/\".join(rand_aspect_list)\n",
        "        temp_array_random_all[idx]['passage'] = rand_aspect\n",
        "        writer.write(temp_array_random_all[idx])\n",
        "        del temp_array_random_all[idx]\n",
        "\n",
        "with jsonlines.open('task_val_random_all.jsonl', mode='w') as writer:\n",
        "    idx_list = temp_array_random_all.keys()\n",
        "    for idx in idx_list:\n",
        "        rand_aspect_list = []\n",
        "        rand_level = np.random.randint(1, level_num)\n",
        "        for i in range(rand_level):\n",
        "            rand_ind = np.random.randint(0, len(aspect_set[i]))\n",
        "            rand_aspect_list.append(aspect_set[i][rand_ind])\n",
        "        rand_aspect = \"/\".join(rand_aspect_list)\n",
        "        temp_array_random_all[idx]['passage'] = rand_aspect\n",
        "        writer.write(temp_array_random_all[idx])\n",
        "\n",
        "    "
      ],
      "execution_count": 0,
      "outputs": []
    },
    {
      "cell_type": "code",
      "metadata": {
        "id": "2krmqGjFJFLF",
        "colab_type": "code",
        "colab": {
          "base_uri": "https://localhost:8080/",
          "height": 34
        },
        "outputId": "c9cfc9ec-7bea-4260-8887-62d180576926"
      },
      "source": [
        "with jsonlines.open('task_train.jsonl') as reader:\n",
        "    for obj in reader:\n",
        "        print(obj['passage'])\n",
        "        break"
      ],
      "execution_count": 28,
      "outputs": [
        {
          "output_type": "stream",
          "text": [
            "Corporate/Sales\n"
          ],
          "name": "stdout"
        }
      ]
    }
  ]
}